{
 "cells": [
  {
   "cell_type": "markdown",
   "id": "d0f37a1b-a0b1-402e-8dfc-cfe74585312a",
   "metadata": {},
   "source": [
    "## Car prices in Poland - Exploratory Data Analysis"
   ]
  },
  {
   "cell_type": "code",
   "execution_count": 1,
   "id": "2e4f2141-7747-4dac-b216-90bf945d4ee0",
   "metadata": {},
   "outputs": [],
   "source": [
    "import numpy as np\n",
    "import pandas as pd \n",
    "import matplotlib.pyplot as plt\n",
    "import seaborn as sns"
   ]
  },
  {
   "cell_type": "code",
   "execution_count": 2,
   "id": "7a239553-0068-47c8-beaa-a143b93079cb",
   "metadata": {},
   "outputs": [],
   "source": [
    "import warnings\n",
    "warnings.filterwarnings(\"ignore\")"
   ]
  },
  {
   "cell_type": "code",
   "execution_count": 3,
   "id": "f3190026-8c75-4966-9cda-b03b5ae48a32",
   "metadata": {},
   "outputs": [
    {
     "data": {
      "text/html": [
       "<div>\n",
       "<style scoped>\n",
       "    .dataframe tbody tr th:only-of-type {\n",
       "        vertical-align: middle;\n",
       "    }\n",
       "\n",
       "    .dataframe tbody tr th {\n",
       "        vertical-align: top;\n",
       "    }\n",
       "\n",
       "    .dataframe thead th {\n",
       "        text-align: right;\n",
       "    }\n",
       "</style>\n",
       "<table border=\"1\" class=\"dataframe\">\n",
       "  <thead>\n",
       "    <tr style=\"text-align: right;\">\n",
       "      <th></th>\n",
       "      <th>mark</th>\n",
       "      <th>model</th>\n",
       "      <th>generation_name</th>\n",
       "      <th>year</th>\n",
       "      <th>mileage</th>\n",
       "      <th>vol_engine</th>\n",
       "      <th>fuel</th>\n",
       "      <th>city</th>\n",
       "      <th>province</th>\n",
       "      <th>price</th>\n",
       "    </tr>\n",
       "  </thead>\n",
       "  <tbody>\n",
       "    <tr>\n",
       "      <th>0</th>\n",
       "      <td>opel</td>\n",
       "      <td>combo</td>\n",
       "      <td>gen-d-2011</td>\n",
       "      <td>2015</td>\n",
       "      <td>139568</td>\n",
       "      <td>1248</td>\n",
       "      <td>Diesel</td>\n",
       "      <td>Janki</td>\n",
       "      <td>Mazowieckie</td>\n",
       "      <td>35900</td>\n",
       "    </tr>\n",
       "    <tr>\n",
       "      <th>1</th>\n",
       "      <td>opel</td>\n",
       "      <td>combo</td>\n",
       "      <td>gen-d-2011</td>\n",
       "      <td>2018</td>\n",
       "      <td>31991</td>\n",
       "      <td>1499</td>\n",
       "      <td>Diesel</td>\n",
       "      <td>Katowice</td>\n",
       "      <td>Śląskie</td>\n",
       "      <td>78501</td>\n",
       "    </tr>\n",
       "    <tr>\n",
       "      <th>2</th>\n",
       "      <td>opel</td>\n",
       "      <td>combo</td>\n",
       "      <td>gen-d-2011</td>\n",
       "      <td>2015</td>\n",
       "      <td>278437</td>\n",
       "      <td>1598</td>\n",
       "      <td>Diesel</td>\n",
       "      <td>Brzeg</td>\n",
       "      <td>Opolskie</td>\n",
       "      <td>27000</td>\n",
       "    </tr>\n",
       "    <tr>\n",
       "      <th>3</th>\n",
       "      <td>opel</td>\n",
       "      <td>combo</td>\n",
       "      <td>gen-d-2011</td>\n",
       "      <td>2016</td>\n",
       "      <td>47600</td>\n",
       "      <td>1248</td>\n",
       "      <td>Diesel</td>\n",
       "      <td>Korfantów</td>\n",
       "      <td>Opolskie</td>\n",
       "      <td>30800</td>\n",
       "    </tr>\n",
       "    <tr>\n",
       "      <th>4</th>\n",
       "      <td>opel</td>\n",
       "      <td>combo</td>\n",
       "      <td>gen-d-2011</td>\n",
       "      <td>2014</td>\n",
       "      <td>103000</td>\n",
       "      <td>1400</td>\n",
       "      <td>CNG</td>\n",
       "      <td>Tarnowskie Góry</td>\n",
       "      <td>Śląskie</td>\n",
       "      <td>35900</td>\n",
       "    </tr>\n",
       "  </tbody>\n",
       "</table>\n",
       "</div>"
      ],
      "text/plain": [
       "   mark  model generation_name  year  mileage  vol_engine    fuel  \\\n",
       "0  opel  combo      gen-d-2011  2015   139568        1248  Diesel   \n",
       "1  opel  combo      gen-d-2011  2018    31991        1499  Diesel   \n",
       "2  opel  combo      gen-d-2011  2015   278437        1598  Diesel   \n",
       "3  opel  combo      gen-d-2011  2016    47600        1248  Diesel   \n",
       "4  opel  combo      gen-d-2011  2014   103000        1400     CNG   \n",
       "\n",
       "              city     province  price  \n",
       "0            Janki  Mazowieckie  35900  \n",
       "1         Katowice      Śląskie  78501  \n",
       "2            Brzeg     Opolskie  27000  \n",
       "3        Korfantów     Opolskie  30800  \n",
       "4  Tarnowskie Góry      Śląskie  35900  "
      ]
     },
     "execution_count": 3,
     "metadata": {},
     "output_type": "execute_result"
    }
   ],
   "source": [
    "data = pd.read_csv('Car_Prices_Poland_Kaggle.csv', index_col=0)\n",
    "data.head()"
   ]
  },
  {
   "cell_type": "markdown",
   "id": "2c5d2e9a-6ad4-4a09-9acf-cd9badbf533b",
   "metadata": {},
   "source": [
    "##### Basic informations about data "
   ]
  },
  {
   "cell_type": "code",
   "execution_count": 4,
   "id": "51bf2d78-79c7-46e6-b7d9-69c455080d12",
   "metadata": {},
   "outputs": [
    {
     "data": {
      "text/plain": [
       "(117927, 10)"
      ]
     },
     "execution_count": 4,
     "metadata": {},
     "output_type": "execute_result"
    }
   ],
   "source": [
    "data.shape"
   ]
  },
  {
   "cell_type": "code",
   "execution_count": 5,
   "id": "bd78d24b-4cec-4c73-b310-1f298a527f61",
   "metadata": {},
   "outputs": [
    {
     "data": {
      "text/plain": [
       "Index(['mark', 'model', 'generation_name', 'year', 'mileage', 'vol_engine',\n",
       "       'fuel', 'city', 'province', 'price'],\n",
       "      dtype='object')"
      ]
     },
     "execution_count": 5,
     "metadata": {},
     "output_type": "execute_result"
    }
   ],
   "source": [
    "data.columns"
   ]
  },
  {
   "cell_type": "code",
   "execution_count": 6,
   "id": "90411092-68c2-412f-b96c-4f0588bd388d",
   "metadata": {},
   "outputs": [
    {
     "data": {
      "text/html": [
       "<div>\n",
       "<style scoped>\n",
       "    .dataframe tbody tr th:only-of-type {\n",
       "        vertical-align: middle;\n",
       "    }\n",
       "\n",
       "    .dataframe tbody tr th {\n",
       "        vertical-align: top;\n",
       "    }\n",
       "\n",
       "    .dataframe thead th {\n",
       "        text-align: right;\n",
       "    }\n",
       "</style>\n",
       "<table border=\"1\" class=\"dataframe\">\n",
       "  <thead>\n",
       "    <tr style=\"text-align: right;\">\n",
       "      <th></th>\n",
       "      <th>year</th>\n",
       "      <th>mileage</th>\n",
       "      <th>vol_engine</th>\n",
       "      <th>price</th>\n",
       "    </tr>\n",
       "  </thead>\n",
       "  <tbody>\n",
       "    <tr>\n",
       "      <th>count</th>\n",
       "      <td>117927.0</td>\n",
       "      <td>117927.0</td>\n",
       "      <td>117927.0</td>\n",
       "      <td>117927.0</td>\n",
       "    </tr>\n",
       "    <tr>\n",
       "      <th>mean</th>\n",
       "      <td>2013.0</td>\n",
       "      <td>140977.0</td>\n",
       "      <td>1812.0</td>\n",
       "      <td>70300.0</td>\n",
       "    </tr>\n",
       "    <tr>\n",
       "      <th>std</th>\n",
       "      <td>6.0</td>\n",
       "      <td>92369.0</td>\n",
       "      <td>644.0</td>\n",
       "      <td>84825.0</td>\n",
       "    </tr>\n",
       "    <tr>\n",
       "      <th>min</th>\n",
       "      <td>1945.0</td>\n",
       "      <td>0.0</td>\n",
       "      <td>0.0</td>\n",
       "      <td>500.0</td>\n",
       "    </tr>\n",
       "    <tr>\n",
       "      <th>25%</th>\n",
       "      <td>2009.0</td>\n",
       "      <td>67000.0</td>\n",
       "      <td>1461.0</td>\n",
       "      <td>21000.0</td>\n",
       "    </tr>\n",
       "    <tr>\n",
       "      <th>50%</th>\n",
       "      <td>2013.0</td>\n",
       "      <td>146269.0</td>\n",
       "      <td>1796.0</td>\n",
       "      <td>41900.0</td>\n",
       "    </tr>\n",
       "    <tr>\n",
       "      <th>75%</th>\n",
       "      <td>2018.0</td>\n",
       "      <td>203000.0</td>\n",
       "      <td>1995.0</td>\n",
       "      <td>83600.0</td>\n",
       "    </tr>\n",
       "    <tr>\n",
       "      <th>max</th>\n",
       "      <td>2022.0</td>\n",
       "      <td>2800000.0</td>\n",
       "      <td>7600.0</td>\n",
       "      <td>2399900.0</td>\n",
       "    </tr>\n",
       "  </tbody>\n",
       "</table>\n",
       "</div>"
      ],
      "text/plain": [
       "           year    mileage  vol_engine      price\n",
       "count  117927.0   117927.0    117927.0   117927.0\n",
       "mean     2013.0   140977.0      1812.0    70300.0\n",
       "std         6.0    92369.0       644.0    84825.0\n",
       "min      1945.0        0.0         0.0      500.0\n",
       "25%      2009.0    67000.0      1461.0    21000.0\n",
       "50%      2013.0   146269.0      1796.0    41900.0\n",
       "75%      2018.0   203000.0      1995.0    83600.0\n",
       "max      2022.0  2800000.0      7600.0  2399900.0"
      ]
     },
     "execution_count": 6,
     "metadata": {},
     "output_type": "execute_result"
    }
   ],
   "source": [
    "data.describe().round()"
   ]
  },
  {
   "cell_type": "code",
   "execution_count": 7,
   "id": "b37ea317-012c-46a1-bf14-a8010391f646",
   "metadata": {},
   "outputs": [
    {
     "name": "stdout",
     "output_type": "stream",
     "text": [
      "<class 'pandas.core.frame.DataFrame'>\n",
      "Int64Index: 117927 entries, 0 to 117926\n",
      "Data columns (total 10 columns):\n",
      " #   Column           Non-Null Count   Dtype \n",
      "---  ------           --------------   ----- \n",
      " 0   mark             117927 non-null  object\n",
      " 1   model            117927 non-null  object\n",
      " 2   generation_name  87842 non-null   object\n",
      " 3   year             117927 non-null  int64 \n",
      " 4   mileage          117927 non-null  int64 \n",
      " 5   vol_engine       117927 non-null  int64 \n",
      " 6   fuel             117927 non-null  object\n",
      " 7   city             117927 non-null  object\n",
      " 8   province         117927 non-null  object\n",
      " 9   price            117927 non-null  int64 \n",
      "dtypes: int64(4), object(6)\n",
      "memory usage: 9.9+ MB\n"
     ]
    }
   ],
   "source": [
    "data.info()"
   ]
  },
  {
   "cell_type": "code",
   "execution_count": 8,
   "id": "8ee2ab83-9bea-4f64-ba68-d0e8eb2583d9",
   "metadata": {
    "tags": []
   },
   "outputs": [],
   "source": [
    "data = data.drop(['generation_name'], axis=1)  ## removing column with huge amounth of missing values "
   ]
  },
  {
   "cell_type": "code",
   "execution_count": 9,
   "id": "f7123e02-b902-430d-ba3f-7f23b0b6ddb7",
   "metadata": {},
   "outputs": [
    {
     "data": {
      "text/plain": [
       "(117927, 9)"
      ]
     },
     "execution_count": 9,
     "metadata": {},
     "output_type": "execute_result"
    }
   ],
   "source": [
    "data.shape"
   ]
  },
  {
   "cell_type": "markdown",
   "id": "6417ac6b-1160-44cf-a875-2eadfd7cd515",
   "metadata": {},
   "source": [
    "#### Mark variable analysis "
   ]
  },
  {
   "cell_type": "code",
   "execution_count": 10,
   "id": "01df9a00-02e4-4706-9053-af9ac6e5dcf8",
   "metadata": {
    "tags": []
   },
   "outputs": [
    {
     "data": {
      "text/html": [
       "<div>\n",
       "<style scoped>\n",
       "    .dataframe tbody tr th:only-of-type {\n",
       "        vertical-align: middle;\n",
       "    }\n",
       "\n",
       "    .dataframe tbody tr th {\n",
       "        vertical-align: top;\n",
       "    }\n",
       "\n",
       "    .dataframe thead th {\n",
       "        text-align: right;\n",
       "    }\n",
       "</style>\n",
       "<table border=\"1\" class=\"dataframe\">\n",
       "  <thead>\n",
       "    <tr style=\"text-align: right;\">\n",
       "      <th></th>\n",
       "      <th>mark</th>\n",
       "    </tr>\n",
       "  </thead>\n",
       "  <tbody>\n",
       "    <tr>\n",
       "      <th>audi</th>\n",
       "      <td>12031</td>\n",
       "    </tr>\n",
       "    <tr>\n",
       "      <th>opel</th>\n",
       "      <td>11914</td>\n",
       "    </tr>\n",
       "    <tr>\n",
       "      <th>bmw</th>\n",
       "      <td>11070</td>\n",
       "    </tr>\n",
       "    <tr>\n",
       "      <th>volkswagen</th>\n",
       "      <td>10848</td>\n",
       "    </tr>\n",
       "    <tr>\n",
       "      <th>ford</th>\n",
       "      <td>9664</td>\n",
       "    </tr>\n",
       "    <tr>\n",
       "      <th>mercedes-benz</th>\n",
       "      <td>7136</td>\n",
       "    </tr>\n",
       "    <tr>\n",
       "      <th>renault</th>\n",
       "      <td>6976</td>\n",
       "    </tr>\n",
       "    <tr>\n",
       "      <th>skoda</th>\n",
       "      <td>5888</td>\n",
       "    </tr>\n",
       "    <tr>\n",
       "      <th>toyota</th>\n",
       "      <td>5120</td>\n",
       "    </tr>\n",
       "    <tr>\n",
       "      <th>peugeot</th>\n",
       "      <td>5056</td>\n",
       "    </tr>\n",
       "  </tbody>\n",
       "</table>\n",
       "</div>"
      ],
      "text/plain": [
       "                mark\n",
       "audi           12031\n",
       "opel           11914\n",
       "bmw            11070\n",
       "volkswagen     10848\n",
       "ford            9664\n",
       "mercedes-benz   7136\n",
       "renault         6976\n",
       "skoda           5888\n",
       "toyota          5120\n",
       "peugeot         5056"
      ]
     },
     "execution_count": 10,
     "metadata": {},
     "output_type": "execute_result"
    }
   ],
   "source": [
    "pd.DataFrame(data.mark.value_counts()).head(10) ## Top 10 marks in dataset "
   ]
  },
  {
   "cell_type": "code",
   "execution_count": 11,
   "id": "c2fa81c1-ac25-4ebd-b1d1-34941ee2f0f7",
   "metadata": {},
   "outputs": [
    {
     "name": "stdout",
     "output_type": "stream",
     "text": [
      "Number of unique categorical values in mark column = 23\n"
     ]
    }
   ],
   "source": [
    "(print('Number of unique categorical values in mark column =', len(data['mark'].unique())))"
   ]
  },
  {
   "cell_type": "code",
   "execution_count": 12,
   "id": "d1a20e50-efee-44f1-8d29-cb55391d3dcd",
   "metadata": {},
   "outputs": [
    {
     "data": {
      "image/png": "[encoded data removed]",
      "text/plain": [
       "<Figure size 1800x720 with 1 Axes>"
      ]
     },
     "metadata": {
      "needs_background": "light"
     },
     "output_type": "display_data"
    }
   ],
   "source": [
    "plt.figure(figsize=[25,10])\n",
    "plt.grid(True)\n",
    "sns.countplot(data.mark, palette='pastel')\n",
    "plt.show()"
   ]
  },
  {
   "cell_type": "markdown",
   "id": "4dbc2fe9-326f-409e-8e6c-28f470fcc340",
   "metadata": {},
   "source": [
    "#### Model variable analysis "
   ]
  },
  {
   "cell_type": "code",
   "execution_count": 13,
   "id": "db12d6ac-8af5-47fc-ac61-a7653e5d0433",
   "metadata": {},
   "outputs": [
    {
     "data": {
      "text/plain": [
       "astra       3331\n",
       "seria-3     2944\n",
       "a4          2912\n",
       "golf        2592\n",
       "a6          2496\n",
       "            ... \n",
       "fluence       32\n",
       "karl          27\n",
       "omega         20\n",
       "frontera      18\n",
       "ampera        10\n",
       "Name: model, Length: 328, dtype: int64"
      ]
     },
     "execution_count": 13,
     "metadata": {},
     "output_type": "execute_result"
    }
   ],
   "source": [
    "model_list = data.model.value_counts() \n",
    "model_list"
   ]
  },
  {
   "cell_type": "code",
   "execution_count": 14,
   "id": "6a42c93e-5540-4ab1-a171-d09f17d6387e",
   "metadata": {},
   "outputs": [
    {
     "name": "stdout",
     "output_type": "stream",
     "text": [
      "Number of unique categorical values in model column = 328\n"
     ]
    }
   ],
   "source": [
    "print('Number of unique categorical values in model column =', len(data['model'].unique()))"
   ]
  },
  {
   "cell_type": "code",
   "execution_count": 15,
   "id": "03fa96a7-8602-42ba-bbb6-fefc2a7d2b38",
   "metadata": {},
   "outputs": [
    {
     "data": {
      "image/png": "[encoded data removed]",
      "text/plain": [
       "<Figure size 1440x576 with 1 Axes>"
      ]
     },
     "metadata": {
      "needs_background": "light"
     },
     "output_type": "display_data"
    }
   ],
   "source": [
    "model_list = data.model.value_counts().rename_axis('Model').reset_index(name='Number')\n",
    "\n",
    "plt.figure(figsize=[20,8])\n",
    "plt.grid(True)\n",
    "sns.barplot(model_list.Model[:20], model_list.Number[:20])\n",
    "plt.show()"
   ]
  },
  {
   "cell_type": "markdown",
   "id": "35802c26-7918-4392-a6eb-681c40a59e68",
   "metadata": {},
   "source": [
    "#### Year variable analysis"
   ]
  },
  {
   "cell_type": "code",
   "execution_count": 16,
   "id": "7bdca627-42cc-4f4a-beea-6cfc07d88c79",
   "metadata": {},
   "outputs": [
    {
     "data": {
      "text/plain": [
       "count    117927.00\n",
       "mean       2012.93\n",
       "std           5.69\n",
       "min        1945.00\n",
       "25%        2009.00\n",
       "50%        2013.00\n",
       "75%        2018.00\n",
       "max        2022.00\n",
       "Name: year, dtype: float64"
      ]
     },
     "execution_count": 16,
     "metadata": {},
     "output_type": "execute_result"
    }
   ],
   "source": [
    "data.year.describe().round(2)"
   ]
  },
  {
   "cell_type": "code",
   "execution_count": 17,
   "id": "6e2e3152-e0c3-46ba-bdd7-56615207f4ab",
   "metadata": {
    "tags": []
   },
   "outputs": [
    {
     "data": {
      "text/plain": [
       "2021    10559\n",
       "2017     8909\n",
       "2018     8647\n",
       "2016     7021\n",
       "2009     6828\n",
       "2011     6596\n",
       "2008     6528\n",
       "2010     6400\n",
       "2012     6240\n",
       "2015     6021\n",
       "2014     5790\n",
       "2007     5735\n",
       "2013     5445\n",
       "2019     5200\n",
       "2006     4755\n",
       "2005     3534\n",
       "2020     3526\n",
       "2004     2641\n",
       "2022     2094\n",
       "2003     1766\n",
       "Name: year, dtype: int64"
      ]
     },
     "execution_count": 17,
     "metadata": {},
     "output_type": "execute_result"
    }
   ],
   "source": [
    "data['year'].value_counts()[:20]"
   ]
  },
  {
   "cell_type": "code",
   "execution_count": 18,
   "id": "bafcc7f9-6a82-49c0-9117-529bfa39d832",
   "metadata": {
    "tags": []
   },
   "outputs": [
    {
     "data": {
      "text/html": [
       "<div>\n",
       "<style scoped>\n",
       "    .dataframe tbody tr th:only-of-type {\n",
       "        vertical-align: middle;\n",
       "    }\n",
       "\n",
       "    .dataframe tbody tr th {\n",
       "        vertical-align: top;\n",
       "    }\n",
       "\n",
       "    .dataframe thead th {\n",
       "        text-align: right;\n",
       "    }\n",
       "</style>\n",
       "<table border=\"1\" class=\"dataframe\">\n",
       "  <thead>\n",
       "    <tr style=\"text-align: right;\">\n",
       "      <th></th>\n",
       "      <th>mileage</th>\n",
       "      <th>vol_engine</th>\n",
       "      <th>price</th>\n",
       "    </tr>\n",
       "    <tr>\n",
       "      <th>year</th>\n",
       "      <th></th>\n",
       "      <th></th>\n",
       "      <th></th>\n",
       "    </tr>\n",
       "  </thead>\n",
       "  <tbody>\n",
       "    <tr>\n",
       "      <th>2000</th>\n",
       "      <td>238477.0</td>\n",
       "      <td>2160.0</td>\n",
       "      <td>11999.0</td>\n",
       "    </tr>\n",
       "    <tr>\n",
       "      <th>2001</th>\n",
       "      <td>239231.0</td>\n",
       "      <td>2053.0</td>\n",
       "      <td>11707.0</td>\n",
       "    </tr>\n",
       "    <tr>\n",
       "      <th>2002</th>\n",
       "      <td>227815.0</td>\n",
       "      <td>2048.0</td>\n",
       "      <td>12723.0</td>\n",
       "    </tr>\n",
       "    <tr>\n",
       "      <th>2003</th>\n",
       "      <td>233415.0</td>\n",
       "      <td>2016.0</td>\n",
       "      <td>13376.0</td>\n",
       "    </tr>\n",
       "    <tr>\n",
       "      <th>2004</th>\n",
       "      <td>231165.0</td>\n",
       "      <td>2042.0</td>\n",
       "      <td>14901.0</td>\n",
       "    </tr>\n",
       "    <tr>\n",
       "      <th>2005</th>\n",
       "      <td>224396.0</td>\n",
       "      <td>1991.0</td>\n",
       "      <td>15876.0</td>\n",
       "    </tr>\n",
       "    <tr>\n",
       "      <th>2006</th>\n",
       "      <td>217876.0</td>\n",
       "      <td>1946.0</td>\n",
       "      <td>17634.0</td>\n",
       "    </tr>\n",
       "    <tr>\n",
       "      <th>2007</th>\n",
       "      <td>217061.0</td>\n",
       "      <td>1937.0</td>\n",
       "      <td>19739.0</td>\n",
       "    </tr>\n",
       "    <tr>\n",
       "      <th>2008</th>\n",
       "      <td>208791.0</td>\n",
       "      <td>1884.0</td>\n",
       "      <td>22258.0</td>\n",
       "    </tr>\n",
       "    <tr>\n",
       "      <th>2009</th>\n",
       "      <td>194696.0</td>\n",
       "      <td>1772.0</td>\n",
       "      <td>24130.0</td>\n",
       "    </tr>\n",
       "    <tr>\n",
       "      <th>2010</th>\n",
       "      <td>189860.0</td>\n",
       "      <td>1811.0</td>\n",
       "      <td>29477.0</td>\n",
       "    </tr>\n",
       "    <tr>\n",
       "      <th>2011</th>\n",
       "      <td>185359.0</td>\n",
       "      <td>1794.0</td>\n",
       "      <td>33018.0</td>\n",
       "    </tr>\n",
       "    <tr>\n",
       "      <th>2012</th>\n",
       "      <td>173284.0</td>\n",
       "      <td>1812.0</td>\n",
       "      <td>40219.0</td>\n",
       "    </tr>\n",
       "    <tr>\n",
       "      <th>2013</th>\n",
       "      <td>162273.0</td>\n",
       "      <td>1783.0</td>\n",
       "      <td>45584.0</td>\n",
       "    </tr>\n",
       "    <tr>\n",
       "      <th>2014</th>\n",
       "      <td>149283.0</td>\n",
       "      <td>1792.0</td>\n",
       "      <td>52808.0</td>\n",
       "    </tr>\n",
       "    <tr>\n",
       "      <th>2015</th>\n",
       "      <td>135094.0</td>\n",
       "      <td>1790.0</td>\n",
       "      <td>63534.0</td>\n",
       "    </tr>\n",
       "    <tr>\n",
       "      <th>2016</th>\n",
       "      <td>119452.0</td>\n",
       "      <td>1780.0</td>\n",
       "      <td>75301.0</td>\n",
       "    </tr>\n",
       "    <tr>\n",
       "      <th>2017</th>\n",
       "      <td>104421.0</td>\n",
       "      <td>1758.0</td>\n",
       "      <td>88858.0</td>\n",
       "    </tr>\n",
       "    <tr>\n",
       "      <th>2018</th>\n",
       "      <td>86807.0</td>\n",
       "      <td>1733.0</td>\n",
       "      <td>103928.0</td>\n",
       "    </tr>\n",
       "    <tr>\n",
       "      <th>2019</th>\n",
       "      <td>52793.0</td>\n",
       "      <td>1770.0</td>\n",
       "      <td>129218.0</td>\n",
       "    </tr>\n",
       "    <tr>\n",
       "      <th>2020</th>\n",
       "      <td>21000.0</td>\n",
       "      <td>1775.0</td>\n",
       "      <td>173188.0</td>\n",
       "    </tr>\n",
       "    <tr>\n",
       "      <th>2021</th>\n",
       "      <td>2198.0</td>\n",
       "      <td>1650.0</td>\n",
       "      <td>198077.0</td>\n",
       "    </tr>\n",
       "    <tr>\n",
       "      <th>2022</th>\n",
       "      <td>14.0</td>\n",
       "      <td>1614.0</td>\n",
       "      <td>201811.0</td>\n",
       "    </tr>\n",
       "  </tbody>\n",
       "</table>\n",
       "</div>"
      ],
      "text/plain": [
       "       mileage  vol_engine     price\n",
       "year                                \n",
       "2000  238477.0      2160.0   11999.0\n",
       "2001  239231.0      2053.0   11707.0\n",
       "2002  227815.0      2048.0   12723.0\n",
       "2003  233415.0      2016.0   13376.0\n",
       "2004  231165.0      2042.0   14901.0\n",
       "2005  224396.0      1991.0   15876.0\n",
       "2006  217876.0      1946.0   17634.0\n",
       "2007  217061.0      1937.0   19739.0\n",
       "2008  208791.0      1884.0   22258.0\n",
       "2009  194696.0      1772.0   24130.0\n",
       "2010  189860.0      1811.0   29477.0\n",
       "2011  185359.0      1794.0   33018.0\n",
       "2012  173284.0      1812.0   40219.0\n",
       "2013  162273.0      1783.0   45584.0\n",
       "2014  149283.0      1792.0   52808.0\n",
       "2015  135094.0      1790.0   63534.0\n",
       "2016  119452.0      1780.0   75301.0\n",
       "2017  104421.0      1758.0   88858.0\n",
       "2018   86807.0      1733.0  103928.0\n",
       "2019   52793.0      1770.0  129218.0\n",
       "2020   21000.0      1775.0  173188.0\n",
       "2021    2198.0      1650.0  198077.0\n",
       "2022      14.0      1614.0  201811.0"
      ]
     },
     "execution_count": 18,
     "metadata": {},
     "output_type": "execute_result"
    }
   ],
   "source": [
    "data.groupby(['year']).mean().round().iloc[31:]"
   ]
  },
  {
   "cell_type": "code",
   "execution_count": 19,
   "id": "0310826e-efeb-4305-a58e-ab4490135bc1",
   "metadata": {},
   "outputs": [
    {
     "data": {
      "text/html": [
       "<div>\n",
       "<style scoped>\n",
       "    .dataframe tbody tr th:only-of-type {\n",
       "        vertical-align: middle;\n",
       "    }\n",
       "\n",
       "    .dataframe tbody tr th {\n",
       "        vertical-align: top;\n",
       "    }\n",
       "\n",
       "    .dataframe thead th {\n",
       "        text-align: right;\n",
       "    }\n",
       "</style>\n",
       "<table border=\"1\" class=\"dataframe\">\n",
       "  <thead>\n",
       "    <tr style=\"text-align: right;\">\n",
       "      <th></th>\n",
       "      <th>Year</th>\n",
       "      <th>mileage</th>\n",
       "      <th>vol_engine</th>\n",
       "      <th>price</th>\n",
       "    </tr>\n",
       "  </thead>\n",
       "  <tbody>\n",
       "    <tr>\n",
       "      <th>0</th>\n",
       "      <td>2000</td>\n",
       "      <td>238477.0</td>\n",
       "      <td>2160.0</td>\n",
       "      <td>11999.0</td>\n",
       "    </tr>\n",
       "    <tr>\n",
       "      <th>1</th>\n",
       "      <td>2001</td>\n",
       "      <td>239231.0</td>\n",
       "      <td>2053.0</td>\n",
       "      <td>11707.0</td>\n",
       "    </tr>\n",
       "    <tr>\n",
       "      <th>2</th>\n",
       "      <td>2002</td>\n",
       "      <td>227815.0</td>\n",
       "      <td>2048.0</td>\n",
       "      <td>12723.0</td>\n",
       "    </tr>\n",
       "    <tr>\n",
       "      <th>3</th>\n",
       "      <td>2003</td>\n",
       "      <td>233415.0</td>\n",
       "      <td>2016.0</td>\n",
       "      <td>13376.0</td>\n",
       "    </tr>\n",
       "    <tr>\n",
       "      <th>4</th>\n",
       "      <td>2004</td>\n",
       "      <td>231165.0</td>\n",
       "      <td>2042.0</td>\n",
       "      <td>14901.0</td>\n",
       "    </tr>\n",
       "    <tr>\n",
       "      <th>5</th>\n",
       "      <td>2005</td>\n",
       "      <td>224396.0</td>\n",
       "      <td>1991.0</td>\n",
       "      <td>15876.0</td>\n",
       "    </tr>\n",
       "    <tr>\n",
       "      <th>6</th>\n",
       "      <td>2006</td>\n",
       "      <td>217876.0</td>\n",
       "      <td>1946.0</td>\n",
       "      <td>17634.0</td>\n",
       "    </tr>\n",
       "    <tr>\n",
       "      <th>7</th>\n",
       "      <td>2007</td>\n",
       "      <td>217061.0</td>\n",
       "      <td>1937.0</td>\n",
       "      <td>19739.0</td>\n",
       "    </tr>\n",
       "    <tr>\n",
       "      <th>8</th>\n",
       "      <td>2008</td>\n",
       "      <td>208791.0</td>\n",
       "      <td>1884.0</td>\n",
       "      <td>22258.0</td>\n",
       "    </tr>\n",
       "    <tr>\n",
       "      <th>9</th>\n",
       "      <td>2009</td>\n",
       "      <td>194696.0</td>\n",
       "      <td>1772.0</td>\n",
       "      <td>24130.0</td>\n",
       "    </tr>\n",
       "    <tr>\n",
       "      <th>10</th>\n",
       "      <td>2010</td>\n",
       "      <td>189860.0</td>\n",
       "      <td>1811.0</td>\n",
       "      <td>29477.0</td>\n",
       "    </tr>\n",
       "    <tr>\n",
       "      <th>11</th>\n",
       "      <td>2011</td>\n",
       "      <td>185359.0</td>\n",
       "      <td>1794.0</td>\n",
       "      <td>33018.0</td>\n",
       "    </tr>\n",
       "    <tr>\n",
       "      <th>12</th>\n",
       "      <td>2012</td>\n",
       "      <td>173284.0</td>\n",
       "      <td>1812.0</td>\n",
       "      <td>40219.0</td>\n",
       "    </tr>\n",
       "    <tr>\n",
       "      <th>13</th>\n",
       "      <td>2013</td>\n",
       "      <td>162273.0</td>\n",
       "      <td>1783.0</td>\n",
       "      <td>45584.0</td>\n",
       "    </tr>\n",
       "    <tr>\n",
       "      <th>14</th>\n",
       "      <td>2014</td>\n",
       "      <td>149283.0</td>\n",
       "      <td>1792.0</td>\n",
       "      <td>52808.0</td>\n",
       "    </tr>\n",
       "    <tr>\n",
       "      <th>15</th>\n",
       "      <td>2015</td>\n",
       "      <td>135094.0</td>\n",
       "      <td>1790.0</td>\n",
       "      <td>63534.0</td>\n",
       "    </tr>\n",
       "    <tr>\n",
       "      <th>16</th>\n",
       "      <td>2016</td>\n",
       "      <td>119452.0</td>\n",
       "      <td>1780.0</td>\n",
       "      <td>75301.0</td>\n",
       "    </tr>\n",
       "    <tr>\n",
       "      <th>17</th>\n",
       "      <td>2017</td>\n",
       "      <td>104421.0</td>\n",
       "      <td>1758.0</td>\n",
       "      <td>88858.0</td>\n",
       "    </tr>\n",
       "    <tr>\n",
       "      <th>18</th>\n",
       "      <td>2018</td>\n",
       "      <td>86807.0</td>\n",
       "      <td>1733.0</td>\n",
       "      <td>103928.0</td>\n",
       "    </tr>\n",
       "    <tr>\n",
       "      <th>19</th>\n",
       "      <td>2019</td>\n",
       "      <td>52793.0</td>\n",
       "      <td>1770.0</td>\n",
       "      <td>129218.0</td>\n",
       "    </tr>\n",
       "    <tr>\n",
       "      <th>20</th>\n",
       "      <td>2020</td>\n",
       "      <td>21000.0</td>\n",
       "      <td>1775.0</td>\n",
       "      <td>173188.0</td>\n",
       "    </tr>\n",
       "    <tr>\n",
       "      <th>21</th>\n",
       "      <td>2021</td>\n",
       "      <td>2198.0</td>\n",
       "      <td>1650.0</td>\n",
       "      <td>198077.0</td>\n",
       "    </tr>\n",
       "    <tr>\n",
       "      <th>22</th>\n",
       "      <td>2022</td>\n",
       "      <td>14.0</td>\n",
       "      <td>1614.0</td>\n",
       "      <td>201811.0</td>\n",
       "    </tr>\n",
       "  </tbody>\n",
       "</table>\n",
       "</div>"
      ],
      "text/plain": [
       "    Year   mileage  vol_engine     price\n",
       "0   2000  238477.0      2160.0   11999.0\n",
       "1   2001  239231.0      2053.0   11707.0\n",
       "2   2002  227815.0      2048.0   12723.0\n",
       "3   2003  233415.0      2016.0   13376.0\n",
       "4   2004  231165.0      2042.0   14901.0\n",
       "5   2005  224396.0      1991.0   15876.0\n",
       "6   2006  217876.0      1946.0   17634.0\n",
       "7   2007  217061.0      1937.0   19739.0\n",
       "8   2008  208791.0      1884.0   22258.0\n",
       "9   2009  194696.0      1772.0   24130.0\n",
       "10  2010  189860.0      1811.0   29477.0\n",
       "11  2011  185359.0      1794.0   33018.0\n",
       "12  2012  173284.0      1812.0   40219.0\n",
       "13  2013  162273.0      1783.0   45584.0\n",
       "14  2014  149283.0      1792.0   52808.0\n",
       "15  2015  135094.0      1790.0   63534.0\n",
       "16  2016  119452.0      1780.0   75301.0\n",
       "17  2017  104421.0      1758.0   88858.0\n",
       "18  2018   86807.0      1733.0  103928.0\n",
       "19  2019   52793.0      1770.0  129218.0\n",
       "20  2020   21000.0      1775.0  173188.0\n",
       "21  2021    2198.0      1650.0  198077.0\n",
       "22  2022      14.0      1614.0  201811.0"
      ]
     },
     "execution_count": 19,
     "metadata": {},
     "output_type": "execute_result"
    }
   ],
   "source": [
    "year_2000_2021 = data.groupby(['year']).mean().round().iloc[31:]\n",
    "year_2000_2021 = year_2000_2021.rename_axis('Year').reset_index()\n",
    "year_2000_2021"
   ]
  },
  {
   "cell_type": "code",
   "execution_count": 20,
   "id": "1d691a22-bd00-4bb2-b01f-1a8e5c68d5df",
   "metadata": {},
   "outputs": [
    {
     "data": {
      "image/png": "[encoded data removed]",
      "text/plain": [
       "<Figure size 864x576 with 1 Axes>"
      ]
     },
     "metadata": {
      "needs_background": "light"
     },
     "output_type": "display_data"
    }
   ],
   "source": [
    "plt.figure(figsize=[12,8])\n",
    "plt.plot(year_2000_2021.Year, year_2000_2021.price)\n",
    "plt.xlabel('Years')\n",
    "plt.ylabel('Average price')\n",
    "plt.title('Increase of the average price with the year of production')\n",
    "plt.grid(True)\n",
    "plt.show()"
   ]
  },
  {
   "cell_type": "code",
   "execution_count": 21,
   "id": "720f2c02-6942-4f0c-b7d4-cb7fe4576d3e",
   "metadata": {},
   "outputs": [
    {
     "data": {
      "image/png": "[encoded data removed]",
      "text/plain": [
       "<Figure size 1440x576 with 1 Axes>"
      ]
     },
     "metadata": {
      "needs_background": "light"
     },
     "output_type": "display_data"
    }
   ],
   "source": [
    "year_list = data.year.value_counts().rename_axis('Year').reset_index(name='Number')\n",
    "\n",
    "plt.figure(figsize=[20,8])\n",
    "plt.grid(True)\n",
    "sns.barplot(year_list.Year[:25], year_list.Number[:25])\n",
    "plt.title('Number of cars in each year')\n",
    "plt.show()"
   ]
  },
  {
   "cell_type": "markdown",
   "id": "d10c6527-1572-47e9-a3d5-a85ea4a0339c",
   "metadata": {},
   "source": [
    "#### Mileage variable analysis"
   ]
  },
  {
   "cell_type": "code",
   "execution_count": 22,
   "id": "e325c91a-07e7-43fa-b53c-5d74116dc0fa",
   "metadata": {},
   "outputs": [
    {
     "data": {
      "text/plain": [
       "count     117927.0\n",
       "mean      140977.0\n",
       "std        92369.0\n",
       "min            0.0\n",
       "25%        67000.0\n",
       "50%       146269.0\n",
       "75%       203000.0\n",
       "max      2800000.0\n",
       "Name: mileage, dtype: float64"
      ]
     },
     "execution_count": 22,
     "metadata": {},
     "output_type": "execute_result"
    }
   ],
   "source": [
    "data.mileage.describe().round()"
   ]
  },
  {
   "cell_type": "code",
   "execution_count": 23,
   "id": "f82f9ded-6c6b-4cdb-96f3-be8cc11fa661",
   "metadata": {},
   "outputs": [
    {
     "data": {
      "image/png": "[encoded data removed]",
      "text/plain": [
       "<Figure size 432x288 with 1 Axes>"
      ]
     },
     "metadata": {
      "needs_background": "light"
     },
     "output_type": "display_data"
    }
   ],
   "source": [
    "sns.boxplot(data.mileage)\n",
    "plt.show()"
   ]
  },
  {
   "cell_type": "code",
   "execution_count": 24,
   "id": "38ecc179-a732-4ccb-a72b-584a54cf3653",
   "metadata": {},
   "outputs": [
    {
     "data": {
      "text/html": [
       "<div>\n",
       "<style scoped>\n",
       "    .dataframe tbody tr th:only-of-type {\n",
       "        vertical-align: middle;\n",
       "    }\n",
       "\n",
       "    .dataframe tbody tr th {\n",
       "        vertical-align: top;\n",
       "    }\n",
       "\n",
       "    .dataframe thead th {\n",
       "        text-align: right;\n",
       "    }\n",
       "</style>\n",
       "<table border=\"1\" class=\"dataframe\">\n",
       "  <thead>\n",
       "    <tr style=\"text-align: right;\">\n",
       "      <th></th>\n",
       "      <th>mark</th>\n",
       "      <th>model</th>\n",
       "      <th>year</th>\n",
       "      <th>mileage</th>\n",
       "      <th>vol_engine</th>\n",
       "      <th>fuel</th>\n",
       "      <th>city</th>\n",
       "      <th>province</th>\n",
       "      <th>price</th>\n",
       "    </tr>\n",
       "  </thead>\n",
       "  <tbody>\n",
       "    <tr>\n",
       "      <th>55214</th>\n",
       "      <td>ford</td>\n",
       "      <td>tourneo-connect</td>\n",
       "      <td>2008</td>\n",
       "      <td>2800000</td>\n",
       "      <td>1753</td>\n",
       "      <td>Diesel</td>\n",
       "      <td>Legnica</td>\n",
       "      <td>Dolnośląskie</td>\n",
       "      <td>12300</td>\n",
       "    </tr>\n",
       "  </tbody>\n",
       "</table>\n",
       "</div>"
      ],
      "text/plain": [
       "       mark            model  year  mileage  vol_engine    fuel     city  \\\n",
       "55214  ford  tourneo-connect  2008  2800000        1753  Diesel  Legnica   \n",
       "\n",
       "           province  price  \n",
       "55214  Dolnośląskie  12300  "
      ]
     },
     "execution_count": 24,
     "metadata": {},
     "output_type": "execute_result"
    }
   ],
   "source": [
    "data[data['mileage']==data['mileage'].max()]"
   ]
  },
  {
   "cell_type": "code",
   "execution_count": 25,
   "id": "d302d56b-58e0-4b8a-8e15-c56182967b13",
   "metadata": {},
   "outputs": [],
   "source": [
    "data = data.drop(data.index[55214]) ## removing outlier "
   ]
  },
  {
   "cell_type": "code",
   "execution_count": 26,
   "id": "ee61959d-da30-4550-ba3d-ba538f45d788",
   "metadata": {},
   "outputs": [
    {
     "data": {
      "text/html": [
       "<div>\n",
       "<style scoped>\n",
       "    .dataframe tbody tr th:only-of-type {\n",
       "        vertical-align: middle;\n",
       "    }\n",
       "\n",
       "    .dataframe tbody tr th {\n",
       "        vertical-align: top;\n",
       "    }\n",
       "\n",
       "    .dataframe thead th {\n",
       "        text-align: right;\n",
       "    }\n",
       "</style>\n",
       "<table border=\"1\" class=\"dataframe\">\n",
       "  <thead>\n",
       "    <tr style=\"text-align: right;\">\n",
       "      <th></th>\n",
       "      <th>mark</th>\n",
       "      <th>model</th>\n",
       "      <th>year</th>\n",
       "      <th>mileage</th>\n",
       "      <th>vol_engine</th>\n",
       "      <th>fuel</th>\n",
       "      <th>city</th>\n",
       "      <th>province</th>\n",
       "      <th>price</th>\n",
       "    </tr>\n",
       "  </thead>\n",
       "  <tbody>\n",
       "    <tr>\n",
       "      <th>53958</th>\n",
       "      <td>ford</td>\n",
       "      <td>mondeo</td>\n",
       "      <td>2014</td>\n",
       "      <td>2500000</td>\n",
       "      <td>1999</td>\n",
       "      <td>Hybrid</td>\n",
       "      <td>Poznań</td>\n",
       "      <td>Lubelskie</td>\n",
       "      <td>23800</td>\n",
       "    </tr>\n",
       "  </tbody>\n",
       "</table>\n",
       "</div>"
      ],
      "text/plain": [
       "       mark   model  year  mileage  vol_engine    fuel    city   province  \\\n",
       "53958  ford  mondeo  2014  2500000        1999  Hybrid  Poznań  Lubelskie   \n",
       "\n",
       "       price  \n",
       "53958  23800  "
      ]
     },
     "execution_count": 26,
     "metadata": {},
     "output_type": "execute_result"
    }
   ],
   "source": [
    "data[data['mileage']==data['mileage'].max()]"
   ]
  },
  {
   "cell_type": "code",
   "execution_count": 27,
   "id": "2170a605-8c1f-4ed2-b5a2-cf3c55697c05",
   "metadata": {},
   "outputs": [],
   "source": [
    "data = data.drop(data.index[53958])  ## removing outlier "
   ]
  },
  {
   "cell_type": "code",
   "execution_count": 28,
   "id": "0cb3327f-1f4e-4a63-ae29-e1a81edadcb7",
   "metadata": {},
   "outputs": [
    {
     "data": {
      "image/png": "[encoded data removed]",
      "text/plain": [
       "<Figure size 864x504 with 1 Axes>"
      ]
     },
     "metadata": {
      "needs_background": "light"
     },
     "output_type": "display_data"
    }
   ],
   "source": [
    "plt.figure(figsize=[12,7])\n",
    "plt.plot(year_2000_2021.Year, year_2000_2021.mileage)\n",
    "plt.xlabel('Year')\n",
    "plt.ylabel('Average mileage')\n",
    "plt.title('Average mileage in each year')\n",
    "plt.grid(True)\n",
    "plt.show()"
   ]
  },
  {
   "cell_type": "code",
   "execution_count": 29,
   "id": "0b6437fc-9b3e-45b8-a7d0-b9952a01e402",
   "metadata": {},
   "outputs": [
    {
     "data": {
      "image/png": "[encoded data removed]",
      "text/plain": [
       "<Figure size 1440x576 with 1 Axes>"
      ]
     },
     "metadata": {
      "needs_background": "light"
     },
     "output_type": "display_data"
    }
   ],
   "source": [
    "plt.figure(figsize=[20,8])\n",
    "sns.histplot(data.mileage, bins=100)\n",
    "plt.xlim(right = 500000)\n",
    "plt.title('Mileage distribution')\n",
    "plt.show()"
   ]
  },
  {
   "cell_type": "code",
   "execution_count": 30,
   "id": "078aeb53-d0d6-4501-8abb-b12a9bde414e",
   "metadata": {},
   "outputs": [
    {
     "data": {
      "text/plain": [
       "373"
      ]
     },
     "execution_count": 30,
     "metadata": {},
     "output_type": "execute_result"
    }
   ],
   "source": [
    "np.sum(data.mileage == 0) # Checking if there is any car with 0 mileage "
   ]
  },
  {
   "cell_type": "code",
   "execution_count": 31,
   "id": "e5e9643d-9aa8-430d-a037-b71f4f36a0c4",
   "metadata": {},
   "outputs": [
    {
     "data": {
      "image/png": "[encoded data removed]",
      "text/plain": [
       "<Figure size 1440x576 with 1 Axes>"
      ]
     },
     "metadata": {
      "needs_background": "light"
     },
     "output_type": "display_data"
    }
   ],
   "source": [
    "plt.figure(figsize=[20,8])\n",
    "sns.boxplot(data.mileage)\n",
    "plt.show()"
   ]
  },
  {
   "cell_type": "markdown",
   "id": "2e4e94b4-ca75-493f-947e-1c8ffd55bc0f",
   "metadata": {},
   "source": [
    "#### Engine volume variable analysis"
   ]
  },
  {
   "cell_type": "code",
   "execution_count": 32,
   "id": "f5586fcf-ab04-4ff7-87e3-41967c50e0fc",
   "metadata": {},
   "outputs": [
    {
     "data": {
      "text/plain": [
       "count    117925.0\n",
       "mean       1812.0\n",
       "std         644.0\n",
       "min           0.0\n",
       "25%        1461.0\n",
       "50%        1796.0\n",
       "75%        1995.0\n",
       "max        7600.0\n",
       "Name: vol_engine, dtype: float64"
      ]
     },
     "execution_count": 32,
     "metadata": {},
     "output_type": "execute_result"
    }
   ],
   "source": [
    "data.vol_engine.describe().round()"
   ]
  },
  {
   "cell_type": "code",
   "execution_count": 33,
   "id": "cf8c4004-4526-4845-aa44-37a1b97cf8d5",
   "metadata": {},
   "outputs": [
    {
     "data": {
      "text/plain": [
       "1248"
      ]
     },
     "execution_count": 33,
     "metadata": {},
     "output_type": "execute_result"
    }
   ],
   "source": [
    "(data.vol_engine == 0).sum() # Checking if there is any car with 0 mileage"
   ]
  },
  {
   "cell_type": "code",
   "execution_count": 34,
   "id": "0a9a044f-16e3-4380-8c9a-6f4887daf563",
   "metadata": {},
   "outputs": [],
   "source": [
    "data = data.drop(data[data.vol_engine == 0].index) ## Removing 0 values "
   ]
  },
  {
   "cell_type": "code",
   "execution_count": 35,
   "id": "4732e65e-ba78-445e-a2b9-612a14d600e4",
   "metadata": {},
   "outputs": [
    {
     "data": {
      "image/png": "[encoded data removed]",
      "text/plain": [
       "<Figure size 1800x432 with 1 Axes>"
      ]
     },
     "metadata": {
      "needs_background": "light"
     },
     "output_type": "display_data"
    }
   ],
   "source": [
    "plt.figure(figsize=[25,6])\n",
    "sns.histplot(data.vol_engine, bins=50)\n",
    "plt.show()"
   ]
  },
  {
   "cell_type": "code",
   "execution_count": 36,
   "id": "16b6a0dc-d685-4198-9c23-43426a16bf17",
   "metadata": {},
   "outputs": [
    {
     "data": {
      "text/plain": [
       "0"
      ]
     },
     "execution_count": 36,
     "metadata": {},
     "output_type": "execute_result"
    }
   ],
   "source": [
    "np.sum(data.mileage == 0) # Checking if there is any car with 0 mileage for 2nd time - now is zero"
   ]
  },
  {
   "cell_type": "markdown",
   "id": "a3738662-e0c5-4a68-ba34-ce501db7af21",
   "metadata": {},
   "source": [
    "####  Fuel variable analysis"
   ]
  },
  {
   "cell_type": "code",
   "execution_count": 37,
   "id": "0718933a-f616-4084-8da9-8532089d37af",
   "metadata": {},
   "outputs": [
    {
     "data": {
      "text/plain": [
       "Gasoline    61419\n",
       "Diesel      48327\n",
       "LPG          4299\n",
       "Hybrid       2573\n",
       "CNG            47\n",
       "Electric       12\n",
       "Name: fuel, dtype: int64"
      ]
     },
     "execution_count": 37,
     "metadata": {},
     "output_type": "execute_result"
    }
   ],
   "source": [
    "data.fuel.value_counts()"
   ]
  },
  {
   "cell_type": "code",
   "execution_count": 38,
   "id": "d577d3c1-00b6-410f-a0f4-77559f953129",
   "metadata": {},
   "outputs": [
    {
     "data": {
      "text/html": [
       "<div>\n",
       "<style scoped>\n",
       "    .dataframe tbody tr th:only-of-type {\n",
       "        vertical-align: middle;\n",
       "    }\n",
       "\n",
       "    .dataframe tbody tr th {\n",
       "        vertical-align: top;\n",
       "    }\n",
       "\n",
       "    .dataframe thead th {\n",
       "        text-align: right;\n",
       "    }\n",
       "</style>\n",
       "<table border=\"1\" class=\"dataframe\">\n",
       "  <thead>\n",
       "    <tr style=\"text-align: right;\">\n",
       "      <th></th>\n",
       "      <th>year</th>\n",
       "      <th>mileage</th>\n",
       "      <th>vol_engine</th>\n",
       "      <th>price</th>\n",
       "    </tr>\n",
       "    <tr>\n",
       "      <th>fuel</th>\n",
       "      <th></th>\n",
       "      <th></th>\n",
       "      <th></th>\n",
       "      <th></th>\n",
       "    </tr>\n",
       "  </thead>\n",
       "  <tbody>\n",
       "    <tr>\n",
       "      <th>CNG</th>\n",
       "      <td>2012.191489</td>\n",
       "      <td>182233.872340</td>\n",
       "      <td>1513.191489</td>\n",
       "      <td>30979.829787</td>\n",
       "    </tr>\n",
       "    <tr>\n",
       "      <th>Diesel</th>\n",
       "      <td>2012.918969</td>\n",
       "      <td>176293.190473</td>\n",
       "      <td>1973.830198</td>\n",
       "      <td>71321.391706</td>\n",
       "    </tr>\n",
       "    <tr>\n",
       "      <th>Electric</th>\n",
       "      <td>2018.916667</td>\n",
       "      <td>18651.333333</td>\n",
       "      <td>764.333333</td>\n",
       "      <td>136295.833333</td>\n",
       "    </tr>\n",
       "    <tr>\n",
       "      <th>Gasoline</th>\n",
       "      <td>2012.804214</td>\n",
       "      <td>115710.359530</td>\n",
       "      <td>1715.449405</td>\n",
       "      <td>65713.597144</td>\n",
       "    </tr>\n",
       "    <tr>\n",
       "      <th>Hybrid</th>\n",
       "      <td>2019.192771</td>\n",
       "      <td>40439.359114</td>\n",
       "      <td>1890.537505</td>\n",
       "      <td>167923.035367</td>\n",
       "    </tr>\n",
       "    <tr>\n",
       "      <th>LPG</th>\n",
       "      <td>2008.830658</td>\n",
       "      <td>201872.227262</td>\n",
       "      <td>1858.958362</td>\n",
       "      <td>26995.022796</td>\n",
       "    </tr>\n",
       "  </tbody>\n",
       "</table>\n",
       "</div>"
      ],
      "text/plain": [
       "                 year        mileage   vol_engine          price\n",
       "fuel                                                            \n",
       "CNG       2012.191489  182233.872340  1513.191489   30979.829787\n",
       "Diesel    2012.918969  176293.190473  1973.830198   71321.391706\n",
       "Electric  2018.916667   18651.333333   764.333333  136295.833333\n",
       "Gasoline  2012.804214  115710.359530  1715.449405   65713.597144\n",
       "Hybrid    2019.192771   40439.359114  1890.537505  167923.035367\n",
       "LPG       2008.830658  201872.227262  1858.958362   26995.022796"
      ]
     },
     "execution_count": 38,
     "metadata": {},
     "output_type": "execute_result"
    }
   ],
   "source": [
    "data.groupby(['fuel']).mean()"
   ]
  },
  {
   "cell_type": "code",
   "execution_count": 39,
   "id": "19c9ee67-b502-4c61-adc2-df5ac3b1c7fd",
   "metadata": {},
   "outputs": [
    {
     "name": "stdout",
     "output_type": "stream",
     "text": [
      "Number of unique categorical values in fuel column = 6\n"
     ]
    }
   ],
   "source": [
    "print('Number of unique categorical values in fuel column =', len(data['fuel'].unique()))"
   ]
  },
  {
   "cell_type": "code",
   "execution_count": 40,
   "id": "2796a81c-7e8a-4b1a-8637-d9b4fd562522",
   "metadata": {},
   "outputs": [
    {
     "data": {
      "image/png": "[encoded data removed]",
      "text/plain": [
       "<Figure size 576x432 with 1 Axes>"
      ]
     },
     "metadata": {
      "needs_background": "light"
     },
     "output_type": "display_data"
    }
   ],
   "source": [
    "order=['Gasoline','Diesel','LPG','Hybrid','CNG','Electric']\n",
    "\n",
    "plt.figure(figsize=[8,6])\n",
    "plt.grid(True)\n",
    "sns.countplot(data.fuel, order=order)\n",
    "\n",
    "plt.show()"
   ]
  },
  {
   "cell_type": "markdown",
   "id": "97f6f9c7-e00c-4a21-8e91-d0ac0a7acd77",
   "metadata": {},
   "source": [
    "#### City variable analysis"
   ]
  },
  {
   "cell_type": "code",
   "execution_count": 41,
   "id": "c34e3d5a-0175-4a01-a0c7-d6188a4d7a8b",
   "metadata": {},
   "outputs": [
    {
     "data": {
      "text/plain": [
       "Warszawa    7769\n",
       "Łódź        3269\n",
       "Kraków      2881\n",
       "Wrocław     2660\n",
       "Poznań      2317\n",
       "Gdańsk      2219\n",
       "Katowice    2190\n",
       "Lublin      1827\n",
       "Radom       1578\n",
       "Szczecin    1431\n",
       "Name: city, dtype: int64"
      ]
     },
     "execution_count": 41,
     "metadata": {},
     "output_type": "execute_result"
    }
   ],
   "source": [
    "data.city.value_counts().head(10)"
   ]
  },
  {
   "cell_type": "code",
   "execution_count": 42,
   "id": "cdba0a46-ae09-4bd7-a7f5-93388ca41a84",
   "metadata": {},
   "outputs": [
    {
     "name": "stdout",
     "output_type": "stream",
     "text": [
      "Number of unique categorical values in city column = 4425\n"
     ]
    }
   ],
   "source": [
    "print('Number of unique categorical values in city column =', len(data['city'].unique()))"
   ]
  },
  {
   "cell_type": "code",
   "execution_count": 43,
   "id": "f5d466ff-c3b8-4038-bc50-8b63902a80de",
   "metadata": {},
   "outputs": [
    {
     "data": {
      "image/png": "[encoded data removed]",
      "text/plain": [
       "<Figure size 1440x576 with 1 Axes>"
      ]
     },
     "metadata": {
      "needs_background": "light"
     },
     "output_type": "display_data"
    }
   ],
   "source": [
    "city_list = data.city.value_counts().rename_axis('City').reset_index(name='Number')\n",
    "\n",
    "plt.figure(figsize=[20,8])\n",
    "plt.grid(True)\n",
    "sns.barplot(city_list.City[:20], city_list.Number[:20])\n",
    "plt.show()"
   ]
  },
  {
   "cell_type": "markdown",
   "id": "e2f8cc49-7247-4fc9-80d8-deb65c0e3cc0",
   "metadata": {},
   "source": [
    "#### Province variable analysis"
   ]
  },
  {
   "cell_type": "code",
   "execution_count": 44,
   "id": "bf76f2c8-c536-4e6b-aece-b0a6137ee07f",
   "metadata": {},
   "outputs": [
    {
     "data": {
      "text/plain": [
       "Mazowieckie                 21953\n",
       "Śląskie                     16475\n",
       "Wielkopolskie               13870\n",
       "Małopolskie                  9667\n",
       "Dolnośląskie                 8723\n",
       "Łódzkie                      7803\n",
       "Pomorskie                    7506\n",
       "Kujawsko-pomorskie           5330\n",
       "Lubelskie                    4725\n",
       "Zachodniopomorskie           3922\n",
       "Podkarpackie                 3519\n",
       "Świętokrzyskie               3319\n",
       "Warmińsko-mazurskie          2933\n",
       "Lubuskie                     2732\n",
       "Podlaskie                    2110\n",
       "Opolskie                     2046\n",
       "Moravian-Silesian Region       35\n",
       "Berlin                          3\n",
       "Wiedeń                          2\n",
       "Niedersachsen                   1\n",
       "(                               1\n",
       "Trenczyn                        1\n",
       "Nordrhein-Westfalen             1\n",
       "Name: province, dtype: int64"
      ]
     },
     "execution_count": 44,
     "metadata": {},
     "output_type": "execute_result"
    }
   ],
   "source": [
    "data.province.value_counts()"
   ]
  },
  {
   "cell_type": "code",
   "execution_count": 45,
   "id": "1a41ed54-c1b8-462a-9af7-1f2b8658fc13",
   "metadata": {},
   "outputs": [],
   "source": [
    "## Removing object whit ones isn't provinces in Poland \n",
    "\n",
    "searchfor = ['Moravian-Silesian Region','Berlin','Wiedeń','Niedersachsen','(','Trenczyn','Nordrhein-Westfalen']\n",
    "\n",
    "data = data.drop((data.loc[data['province'].isin(searchfor)].index), axis=0)"
   ]
  },
  {
   "cell_type": "code",
   "execution_count": 46,
   "id": "148c4bb4-2afb-405c-b5ae-42bf562d1e52",
   "metadata": {},
   "outputs": [
    {
     "name": "stdout",
     "output_type": "stream",
     "text": [
      "Number of unique categorical values in province column = 16\n"
     ]
    }
   ],
   "source": [
    "print('Number of unique categorical values in province column =', len(data['province'].unique()))"
   ]
  },
  {
   "cell_type": "code",
   "execution_count": 47,
   "id": "a2d18b8e-3b04-4efc-b41b-a13cfef33fb8",
   "metadata": {},
   "outputs": [
    {
     "data": {
      "image/png": "[encoded data removed]",
      "text/plain": [
       "<Figure size 1440x576 with 1 Axes>"
      ]
     },
     "metadata": {
      "needs_background": "light"
     },
     "output_type": "display_data"
    }
   ],
   "source": [
    "plt.figure(figsize=[20,8])\n",
    "plt.grid(True)\n",
    "sns.countplot(data.province)\n",
    "plt.xticks(rotation=90)\n",
    "plt.ylabel('Number of cars')\n",
    "plt.xlabel('Names of provinces')\n",
    "plt.title('Cars by provinces')\n",
    "plt.show()"
   ]
  },
  {
   "cell_type": "markdown",
   "id": "8107b2e3-5601-4e27-8db8-539fe024b27d",
   "metadata": {},
   "source": [
    "#### Price variable analysis "
   ]
  },
  {
   "cell_type": "code",
   "execution_count": 48,
   "id": "84730a34-97db-4ef6-8b61-e6419c918893",
   "metadata": {},
   "outputs": [
    {
     "data": {
      "text/plain": [
       "count     116633.00\n",
       "mean       68851.78\n",
       "std        83250.95\n",
       "min          500.00\n",
       "25%        20900.00\n",
       "50%        41000.00\n",
       "75%        81500.00\n",
       "max      2399900.00\n",
       "Name: price, dtype: float64"
      ]
     },
     "execution_count": 48,
     "metadata": {},
     "output_type": "execute_result"
    }
   ],
   "source": [
    "data.price.describe().round(2)"
   ]
  },
  {
   "cell_type": "code",
   "execution_count": 49,
   "id": "bc1b301e-9752-4c46-bc35-b6a985f71486",
   "metadata": {},
   "outputs": [
    {
     "data": {
      "image/png": "[encoded data removed]",
      "text/plain": [
       "<Figure size 1080x576 with 1 Axes>"
      ]
     },
     "metadata": {
      "needs_background": "light"
     },
     "output_type": "display_data"
    }
   ],
   "source": [
    "plt.figure(figsize=[15,8])\n",
    "plt.hist(data.price, bins=200)\n",
    "plt.xlim(0,500000)\n",
    "plt.xticks(np.arange(0, 500000, step=25000))\n",
    "plt.show()"
   ]
  },
  {
   "cell_type": "code",
   "execution_count": 50,
   "id": "7bb8ebb4-10e9-439e-ab28-69ba7c4a8d35",
   "metadata": {},
   "outputs": [
    {
     "data": {
      "image/png": "[encoded data removed]",
      "text/plain": [
       "<Figure size 1584x504 with 1 Axes>"
      ]
     },
     "metadata": {
      "needs_background": "light"
     },
     "output_type": "display_data"
    }
   ],
   "source": [
    "plt.figure(figsize=[22,7])\n",
    "sns.boxplot(data.price)\n",
    "plt.show()"
   ]
  },
  {
   "cell_type": "code",
   "execution_count": 51,
   "id": "2f71eac2-7d05-4250-8b5d-15d16233b78c",
   "metadata": {},
   "outputs": [
    {
     "data": {
      "image/png": "[encoded data removed]",
      "text/plain": [
       "<Figure size 1584x504 with 1 Axes>"
      ]
     },
     "metadata": {
      "needs_background": "light"
     },
     "output_type": "display_data"
    }
   ],
   "source": [
    "plt.figure(figsize=[22,7])\n",
    "sns.boxenplot(data.price)\n",
    "plt.show()"
   ]
  },
  {
   "cell_type": "code",
   "execution_count": 52,
   "id": "517d74dc-0a02-4a9d-b05c-9aa7998d0cc2",
   "metadata": {},
   "outputs": [
    {
     "data": {
      "text/html": [
       "<div>\n",
       "<style scoped>\n",
       "    .dataframe tbody tr th:only-of-type {\n",
       "        vertical-align: middle;\n",
       "    }\n",
       "\n",
       "    .dataframe tbody tr th {\n",
       "        vertical-align: top;\n",
       "    }\n",
       "\n",
       "    .dataframe thead th {\n",
       "        text-align: right;\n",
       "    }\n",
       "</style>\n",
       "<table border=\"1\" class=\"dataframe\">\n",
       "  <thead>\n",
       "    <tr style=\"text-align: right;\">\n",
       "      <th></th>\n",
       "      <th>mark</th>\n",
       "      <th>model</th>\n",
       "      <th>year</th>\n",
       "      <th>mileage</th>\n",
       "      <th>vol_engine</th>\n",
       "      <th>fuel</th>\n",
       "      <th>city</th>\n",
       "      <th>province</th>\n",
       "      <th>price</th>\n",
       "    </tr>\n",
       "  </thead>\n",
       "  <tbody>\n",
       "    <tr>\n",
       "      <th>61836</th>\n",
       "      <td>mercedes-benz</td>\n",
       "      <td>s-klasa</td>\n",
       "      <td>2017</td>\n",
       "      <td>400</td>\n",
       "      <td>5980</td>\n",
       "      <td>Gasoline</td>\n",
       "      <td>Janki</td>\n",
       "      <td>Mazowieckie</td>\n",
       "      <td>2399900</td>\n",
       "    </tr>\n",
       "  </tbody>\n",
       "</table>\n",
       "</div>"
      ],
      "text/plain": [
       "                mark    model  year  mileage  vol_engine      fuel   city  \\\n",
       "61836  mercedes-benz  s-klasa  2017      400        5980  Gasoline  Janki   \n",
       "\n",
       "          province    price  \n",
       "61836  Mazowieckie  2399900  "
      ]
     },
     "execution_count": 52,
     "metadata": {},
     "output_type": "execute_result"
    }
   ],
   "source": [
    "data[data['price']==data['price'].max()]  ## Checking the car with max price "
   ]
  },
  {
   "cell_type": "code",
   "execution_count": 53,
   "id": "412de2ac-9295-4dab-a4cc-ffff4c79e91c",
   "metadata": {},
   "outputs": [
    {
     "data": {
      "text/html": [
       "<div>\n",
       "<style scoped>\n",
       "    .dataframe tbody tr th:only-of-type {\n",
       "        vertical-align: middle;\n",
       "    }\n",
       "\n",
       "    .dataframe tbody tr th {\n",
       "        vertical-align: top;\n",
       "    }\n",
       "\n",
       "    .dataframe thead th {\n",
       "        text-align: right;\n",
       "    }\n",
       "</style>\n",
       "<table border=\"1\" class=\"dataframe\">\n",
       "  <thead>\n",
       "    <tr style=\"text-align: right;\">\n",
       "      <th></th>\n",
       "      <th>mark</th>\n",
       "      <th>model</th>\n",
       "      <th>year</th>\n",
       "      <th>mileage</th>\n",
       "      <th>vol_engine</th>\n",
       "      <th>fuel</th>\n",
       "      <th>city</th>\n",
       "      <th>province</th>\n",
       "      <th>price</th>\n",
       "    </tr>\n",
       "  </thead>\n",
       "  <tbody>\n",
       "    <tr>\n",
       "      <th>38890</th>\n",
       "      <td>volkswagen</td>\n",
       "      <td>golf-plus</td>\n",
       "      <td>2007</td>\n",
       "      <td>300567</td>\n",
       "      <td>1598</td>\n",
       "      <td>Gasoline</td>\n",
       "      <td>Lubachowy</td>\n",
       "      <td>Świętokrzyskie</td>\n",
       "      <td>500</td>\n",
       "    </tr>\n",
       "  </tbody>\n",
       "</table>\n",
       "</div>"
      ],
      "text/plain": [
       "             mark      model  year  mileage  vol_engine      fuel       city  \\\n",
       "38890  volkswagen  golf-plus  2007   300567        1598  Gasoline  Lubachowy   \n",
       "\n",
       "             province  price  \n",
       "38890  Świętokrzyskie    500  "
      ]
     },
     "execution_count": 53,
     "metadata": {},
     "output_type": "execute_result"
    }
   ],
   "source": [
    "data[data['price']==data['price'].min()]  ## Checking the car with min price "
   ]
  },
  {
   "cell_type": "markdown",
   "id": "45a8bae6-9dbc-46f5-a052-54d45a440109",
   "metadata": {},
   "source": [
    "#### Correlation between variables"
   ]
  },
  {
   "cell_type": "code",
   "execution_count": 54,
   "id": "874a895c-75f0-4b54-8b47-15eb1895a675",
   "metadata": {},
   "outputs": [
    {
     "data": {
      "image/png": "[encoded data removed]",
      "text/plain": [
       "<Figure size 720x576 with 2 Axes>"
      ]
     },
     "metadata": {
      "needs_background": "light"
     },
     "output_type": "display_data"
    }
   ],
   "source": [
    "plt.figure(figsize=[10,8])\n",
    "sns.heatmap(data.corr(),annot=True)\n",
    "plt.show()"
   ]
  },
  {
   "cell_type": "markdown",
   "id": "75d9efa6-ed5a-429d-bcf5-cec9289afdfc",
   "metadata": {},
   "source": [
    "#### Saving data after analysis  "
   ]
  },
  {
   "cell_type": "code",
   "execution_count": 55,
   "id": "90d7025f-d0de-4fbf-964b-44ce4b10ca97",
   "metadata": {},
   "outputs": [],
   "source": [
    "data.to_csv('Car_Prices_Poland_Kaggle_regression_project.csv')  ## Dataset after analysis will be used to regression models"
   ]
  }
 ],
 "metadata": {
  "kernelspec": {
   "display_name": "Python 3 (ipykernel)",
   "language": "python",
   "name": "python3"
  },
  "language_info": {
   "codemirror_mode": {
    "name": "ipython",
    "version": 3
   },
   "file_extension": ".py",
   "mimetype": "text/x-python",
   "name": "python",
   "nbconvert_exporter": "python",
   "pygments_lexer": "ipython3",
   "version": "3.9.7"
  }
 },
 "nbformat": 4,
 "nbformat_minor": 5
}
